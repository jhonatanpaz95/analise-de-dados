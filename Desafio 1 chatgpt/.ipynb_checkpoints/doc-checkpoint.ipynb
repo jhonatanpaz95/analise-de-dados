{
 "cells": [
  {
   "cell_type": "code",
   "execution_count": 8,
   "id": "d3557303-21eb-44d6-8acc-3f209a2bf1ff",
   "metadata": {},
   "outputs": [],
   "source": [
    "import pandas as pd\n"
   ]
  },
  {
   "cell_type": "code",
   "execution_count": null,
   "id": "4ca8c15f",
   "metadata": {},
   "outputs": [],
   "source": [
    "pd.read_csv('loja1.txt')"
   ]
  }
 ],
 "metadata": {
  "kernelspec": {
   "display_name": "Python 3 (ipykernel)",
   "language": "python",
   "name": "python3"
  },
  "language_info": {
   "codemirror_mode": {
    "name": "ipython",
    "version": 3
   },
   "file_extension": ".py",
   "mimetype": "text/x-python",
   "name": "python",
   "nbconvert_exporter": "python",
   "pygments_lexer": "ipython3",
   "version": "3.12.1"
  }
 },
 "nbformat": 4,
 "nbformat_minor": 5
}
