{
 "cells": [
  {
   "cell_type": "markdown",
   "metadata": {},
   "source": [
    "\n",
    "\n",
    "| Coluna  | Descrição |\n",
    "| ------- | --------- |\n",
    "| id      | Número da conta |\n",
    "| default | Indica se o cliente é adimplente (0) ou inadimplente (1) |\n",
    "| idade   | --- |\n",
    "| sexo    | --- |\n",
    "| depedentes | --- |\n",
    "| escolaridade | --- |\n",
    "| estado_civil | --- |\n",
    "| salario_anual | Faixa do salario mensal multiplicado por 12 |\n",
    "| tipo_cartao | Categoria do cartao: blue, silver, gold e platinium |\n",
    "| meses_de_relacionamento | Quantidade de meses desde a abertura da conta |\n",
    "| qtd_produtos | Quantidade de produtos contratados |\n",
    "| iteracoes_12m | Quantidade de iteracoes com o cliente no último ano |\n",
    "| meses_inatico_12m | Quantidade de meses que o cliente ficou inativo no último ano |\n",
    "| limite_credito | Valor do limite do cartão de crédito |\n",
    "| valor_transacoes_12m | Soma total do valor das transações no cartão de crédito no último ano |\n",
    "| qtd_transacoes_12m | Quantidade total de transações no cartão de crédito no último ano |\n",
    "\n"
   ]
  },
  {
   "cell_type": "markdown",
   "metadata": {},
   "source": [
    "Analisar o arquivo Credito utilizando o Openpyxl."
   ]
  },
  {
   "cell_type": "code",
   "execution_count": 1,
   "metadata": {},
   "outputs": [
    {
     "name": "stdout",
     "output_type": "stream",
     "text": [
      "(0, 'id')\n",
      "(1, 'default')\n",
      "(2, 'idade')\n",
      "(3, 'sexo')\n",
      "(4, 'dependentes')\n",
      "(5, 'escolaridade')\n",
      "(6, 'estado_civil')\n",
      "(7, 'salario_anual')\n",
      "(8, 'tipo_cartao')\n",
      "(9, 'meses_de_relacionamento')\n",
      "(10, 'qtd_produtos')\n",
      "(11, 'iteracoes_12m')\n",
      "(12, 'meses_inativo_12m')\n",
      "(13, 'limite_credito')\n",
      "(14, 'valor_transacoes_12m')\n",
      "(15, 'qtd_transacoes_12m')\n"
     ]
    }
   ],
   "source": [
    "import csv\n",
    "from openpyxl import load_workbook, workbook\n",
    "\n",
    "#acessando a Aba ativa\n",
    "planilha = load_workbook('credito.xlsx')\n",
    "aba_ativa = planilha.active\n",
    "\n",
    "#descobrindo os indices dos elementos \n",
    "cabecalho = next(aba_ativa.values)\n",
    "for i in enumerate(cabecalho):\n",
    "    print(i)\n",
    "\n"
   ]
  },
  {
   "cell_type": "code",
   "execution_count": 2,
   "metadata": {},
   "outputs": [],
   "source": [
    "# CRIAR WOORKSHEET COM SOMENTE OS INADIMPLENTES\n",
    "\n",
    "nova_ws = planilha.create_sheet('inadimplentes')\n",
    "planilha.save('credito.xlsx')\n"
   ]
  },
  {
   "cell_type": "code",
   "execution_count": 12,
   "metadata": {},
   "outputs": [],
   "source": [
    "#PREENCHENDO CONTEUDO DA NOVA WORKSHEET\n",
    "\n",
    "inadimplentes = []\n",
    "inadimplentes.append(cabecalho)\n",
    "\n",
    "for linha in aba_ativa.iter_rows(min_row=2, values_only=True):\n",
    "\n",
    "    default = linha[1]\n",
    "    if default == 1:\n",
    "        inadimplentes.append(linha)\n",
    "\n",
    "\n",
    "for x, data in enumerate(inadimplentes):\n",
    "    for y, item in enumerate(data):\n",
    "        nova_ws.cell(row=x+1, column=y+1, value=item)\n",
    "\n",
    "planilha.save('credito.xlsx')\n",
    "print('Worksheet criada com sucesso!')\n"
   ]
  },
  {
   "cell_type": "code",
   "execution_count": 55,
   "metadata": {},
   "outputs": [
    {
     "name": "stdout",
     "output_type": "stream",
     "text": [
      "Arquivo criado com sucesso!\n"
     ]
    }
   ],
   "source": [
    "#ESCREVER ARQUIVO CSV DOS INADIMPLENTES\n",
    "\n",
    "def criar_csv (nome_arquivo:str, cabecalho:list, conteudo:list):\n",
    "\n",
    "    with open (file=nome_arquivo + '.csv', mode='w', encoding='utf8', newline='') as arquivo:\n",
    "\n",
    "        escrever_linha = csv.writer(arquivo)\n",
    "\n",
    "        escrever_linha.writerow(cabecalho)\n",
    "        escrever_linha.writerow(conteudo)\n",
    "\n",
    "    return True\n",
    "\n",
    "default = cabecalho.index('default')\n",
    "#print(default)\n",
    "\n",
    "try:\n",
    "\n",
    "    with open(file='inadimplentes.csv', mode='w', encoding='utf', newline='') as arquivo:\n",
    "\n",
    "        escrever_linha = csv.writer(arquivo)\n",
    "\n",
    "        escrever_linha.writerow(cabecalho)\n",
    "\n",
    "        for linha in aba_ativa.iter_rows(min_row=2, values_only=True):\n",
    "\n",
    "            default = linha[1] \n",
    "\n",
    "            if default == 1:\n",
    "\n",
    "             escrever_linha.writerow(linha)\n",
    "    \n",
    "        print('Arquivo criado com sucesso!')\n",
    "\n",
    "except Exception as exc:\n",
    "    print(f'Aconteceu um erro {exc}')\n"
   ]
  },
  {
   "cell_type": "code",
   "execution_count": null,
   "metadata": {},
   "outputs": [],
   "source": [
    "df_default_casados = pd.read_csv('inadimplentes-casados.csv')\n",
    "display(df_default_casados)"
   ]
  }
 ],
 "metadata": {
  "kernelspec": {
   "display_name": "base",
   "language": "python",
   "name": "python3"
  },
  "language_info": {
   "codemirror_mode": {
    "name": "ipython",
    "version": 3
   },
   "file_extension": ".py",
   "mimetype": "text/x-python",
   "name": "python",
   "nbconvert_exporter": "python",
   "pygments_lexer": "ipython3",
   "version": "3.11.7"
  }
 },
 "nbformat": 4,
 "nbformat_minor": 2
}
