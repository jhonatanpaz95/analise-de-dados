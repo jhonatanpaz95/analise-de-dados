{
 "cells": [
  {
   "cell_type": "code",
   "execution_count": 32,
   "metadata": {},
   "outputs": [],
   "source": [
    "import requests\n",
    "from requests.exceptions import HTTPError\n",
    "from bs4 import BeautifulSoup"
   ]
  },
  {
   "cell_type": "code",
   "execution_count": 34,
   "metadata": {},
   "outputs": [],
   "source": [
    "URL = 'https://github.com/trending'\n",
    "\n",
    "def requisicao(url: str, headers:dict) -> str:\n",
    "\n",
    "    try:\n",
    "        headers= {}\n",
    "        resposta = requests.get(url, headers=headers)\n",
    "        resposta.raise_for_status()\n",
    "    except HTTPError as exc:\n",
    "        print(exc)\n",
    "    except Exception as err:\n",
    "        print(f'ocorreu um erro {exc}')\n",
    "    else:\n",
    "        return resposta.text\n"
   ]
  },
  {
   "cell_type": "code",
   "execution_count": 36,
   "metadata": {},
   "outputs": [],
   "source": [
    "HEADERS = {\n",
    "    'User-Agent':'Mozila/5.0',\n",
    "    'Accept-Language': 'en-US,en;q=0.5'\n",
    "}\n",
    "extracao = requisicao(URL, headers=HEADERS)"
   ]
  },
  {
   "cell_type": "code",
   "execution_count": 37,
   "metadata": {},
   "outputs": [],
   "source": [
    "pagina_github = BeautifulSoup(extracao,'html.parser') # extrai html da pagina\n",
    "#print(pagina_github.prettify()) # deixa o print do site mais clean  h3 lh-condensed"
   ]
  },
  {
   "cell_type": "code",
   "execution_count": 194,
   "metadata": {},
   "outputs": [
    {
     "name": "stdout",
     "output_type": "stream",
     "text": [
      "['Sponsor', 'Star', 'coollabsio /', 'coolify', 'An open-source & self-hostable Heroku / Netlify / Vercel alternative.', 'PHP', '21,408', '1,113', 'Built by', '870 stars today']\n",
      "['Star', 'idootop /', 'mi-gpt', '🏠 将小爱音箱接入 ChatGPT 和豆包，改造成你的专属语音助手。', 'TypeScript', '3,003', '240', 'Built by', '803 stars today']\n",
      "['Sponsor', 'Star', 'xenova /', 'transformers.js', 'State-of-the-art Machine Learning for the web. Run 🤗 Transformers directly in your browser, with no need for a server!', 'JavaScript', '8,545', '474', 'Built by', '211 stars today']\n",
      "['Star', 'codecrafters-io /', 'build-your-own-x', 'Master programming by recreating your favorite technologies from scratch.', '271,749', '25,659', 'Built by', '303 stars today']\n",
      "['Star', 'yt-dlp /', 'yt-dlp', 'A feature-rich command-line audio/video downloader', 'Python', '73,946', '5,856', 'Built by', '85 stars today']\n",
      "['Star', 'SoftFever /', 'OrcaSlicer', 'G-code generator for 3D printers (Bambu, Prusa, Voron, VzBot, RatRig, Creality, etc.)', 'C++', '5,572', '638', 'Built by', '16 stars today']\n",
      "['Star', 'google /', 'mesop', 'Python', '1,881', '64', 'Built by', '259 stars today']\n",
      "['Star', 'DaoCloud /', 'public-image-mirror', '很多镜像都在国外。比如 gcr 。国内下载很慢，需要加速。', 'Shell', '1,087', '155', 'Built by', '80 stars today']\n",
      "['Star', 'lllyasviel /', 'stable-diffusion-webui-forge', 'Python', '4,970', '466', 'Built by', '17 stars today']\n",
      "['Star', 'alist-org /', 'alist', '🗂️A file list/WebDAV program that supports multiple storages, powered by Gin and Solidjs. / 一个支持多存储的文件列表/WebDAV程序，使用 Gin 和 Solidjs。', 'Go', '38,703', '5,014', 'Built by', '30 stars today']\n",
      "['Star', 'donnemartin /', 'system-design-primer', 'Learn how to design large-scale systems. Prep for the system design interview. Includes Anki flashcards.', 'Python', '259,991', '44,213', 'Built by', '102 stars today']\n",
      "['Star', 'mahdibland /', 'V2RayAggregator', 'Collect Lots of Shadowsocks, ShadowsocksR, Trojan, Vmess from Public Sources & Filter Best Nodes By Speed', 'Python', '2,178', '379', 'Built by', '30 stars today']\n",
      "['Star', 'microsoft /', 'winget-pkgs', 'The Microsoft community Windows Package Manager manifest repository', '8,179', '4,180', 'Built by', '21 stars today']\n",
      "['Star', 'roboflow /', 'notebooks', 'Examples and tutorials on using SOTA computer vision models and techniques. Learn everything from old-school ResNet, through YOLO and object-detection transformers like DETR, to the latest models like Grounding DINO and SAM.', 'Jupyter Notebook', '4,471', '707', 'Built by', '49 stars today']\n",
      "['Star', 'k2-fsa /', 'sherpa-onnx', 'Speech-to-text, text-to-speech, and speaker recongition using next-gen Kaldi with onnxruntime without Internet connection. Support embedded systems, Android, iOS, Raspberry Pi, RISC-V, x86_64 servers, websocket server/client, C/C++, Python, Kotlin, C#, Go, NodeJS, Java, Swift', 'C++', '1,385', '214', 'Built by', '127 stars today']\n",
      "['Star', 'karpathy /', 'nanoGPT', 'The simplest, fastest repository for training/finetuning medium-sized GPTs.', 'Python', '32,901', '5,068', 'Built by', '52 stars today']\n",
      "['Star', 'cloudcommunity /', 'Free-Certifications', 'A curated list of free courses & certifications.', '22,169', '1,729', 'Built by', '71 stars today']\n",
      "['Star', 'huggingface /', 'lerobot', '🤗 LeRobot: End-to-end Learning for Real-World Robotics in Pytorch', 'Python', '3,587', '263', 'Built by', '146 stars today']\n",
      "['Star', 'LazyVim /', 'LazyVim', 'Neovim config for the lazy', 'Lua', '14,315', '957', 'Built by', '47 stars today']\n"
     ]
    }
   ],
   "source": [
    "tabela = pagina_github.find('div', {'class': 'position-relative container-lg p-responsive pt-6'})\n",
    "\n",
    "conteudo_extraido = []\n",
    "\n",
    "    \n",
    "for linha in tabela.find_all('article'):\n",
    "    textos_coluna = list()\n",
    "\n",
    "    \n",
    "    textos_coluna = linha.get_text(\";\").strip().split(\";\")\n",
    "    conteudo_extraido.append(textos_coluna)\n",
    "\n",
    "\n",
    "def limpar_listas(listas):\n",
    "    return [[item.strip() for item in sublista if item.strip() not in ('\\n', '')] for sublista in listas]\n",
    "\n",
    "lista_limpa = limpar_listas(conteudo_extraido)\n",
    "\n",
    "for i in lista_limpa:\n",
    "    print(i)\n"
   ]
  }
 ],
 "metadata": {
  "kernelspec": {
   "display_name": "base",
   "language": "python",
   "name": "python3"
  },
  "language_info": {
   "codemirror_mode": {
    "name": "ipython",
    "version": 3
   },
   "file_extension": ".py",
   "mimetype": "text/x-python",
   "name": "python",
   "nbconvert_exporter": "python",
   "pygments_lexer": "ipython3",
   "version": "3.11.7"
  }
 },
 "nbformat": 4,
 "nbformat_minor": 2
}
