{
 "cells": [
  {
   "cell_type": "code",
   "execution_count": 32,
   "metadata": {},
   "outputs": [],
   "source": [
    "import requests\n",
    "from requests.exceptions import HTTPError\n",
    "from bs4 import BeautifulSoup"
   ]
  },
  {
   "cell_type": "code",
   "execution_count": 34,
   "metadata": {},
   "outputs": [],
   "source": [
    "URL = 'https://github.com/trending'\n",
    "\n",
    "def requisicao(url: str, headers:dict) -> str:\n",
    "\n",
    "    try:\n",
    "        headers= {}\n",
    "        resposta = requests.get(url, headers=headers)\n",
    "        resposta.raise_for_status()\n",
    "    except HTTPError as exc:\n",
    "        print(exc)\n",
    "    except Exception as err:\n",
    "        print(f'ocorreu um erro {exc}')\n",
    "    else:\n",
    "        return resposta.text\n"
   ]
  },
  {
   "cell_type": "code",
   "execution_count": 36,
   "metadata": {},
   "outputs": [],
   "source": [
    "HEADERS = {\n",
    "    'User-Agent':'Mozila/5.0',\n",
    "    'Accept-Language': 'en-US,en;q=0.5'\n",
    "}\n",
    "extracao = requisicao(URL, headers=HEADERS)"
   ]
  },
  {
   "cell_type": "code",
   "execution_count": 37,
   "metadata": {},
   "outputs": [],
   "source": [
    "pagina_github = BeautifulSoup(extracao,'html.parser') # extrai html da pagina\n",
    "#print(pagina_github.prettify()) # deixa o print do site mais clean  h3 lh-condensed"
   ]
  },
  {
   "cell_type": "code",
   "execution_count": 95,
   "metadata": {},
   "outputs": [
    {
     "name": "stdout",
     "output_type": "stream",
     "text": [
      "[<h1 class=\"sr-only\" id=\"search-suggestions-dialog-header\">Search code, repositories, users, issues, pull requests...</h1>, <h1 class=\"Overlay-title\" id=\"feedback-dialog-title\">\n",
      "        Provide feedback\n",
      "      </h1>, <h1 class=\"Overlay-title\" id=\"custom-scopes-dialog-title\">\n",
      "        Saved searches\n",
      "      </h1>, <h1 class=\"h1\">Trending</h1>]\n"
     ]
    }
   ],
   "source": [
    "tabela = pagina_github.find_all('h2', cla)\n",
    "\n",
    "print(tabela)\n",
    "\n",
    "\n"
   ]
  }
 ],
 "metadata": {
  "kernelspec": {
   "display_name": "base",
   "language": "python",
   "name": "python3"
  },
  "language_info": {
   "codemirror_mode": {
    "name": "ipython",
    "version": 3
   },
   "file_extension": ".py",
   "mimetype": "text/x-python",
   "name": "python",
   "nbconvert_exporter": "python",
   "pygments_lexer": "ipython3",
   "version": "3.11.7"
  }
 },
 "nbformat": 4,
 "nbformat_minor": 2
}
